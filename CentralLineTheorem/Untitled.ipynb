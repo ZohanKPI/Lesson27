{
 "cells": [
  {
   "cell_type": "code",
   "execution_count": 5,
   "id": "081cfab9",
   "metadata": {},
   "outputs": [
    {
     "name": "stdout",
     "output_type": "stream",
     "text": [
      "Мат. сподівання: 7.0\n",
      "Дисперсія: 6.9951\n",
      "Середнє квадратичне відхилення: 2.644825135996707\n"
     ]
    }
   ],
   "source": [
    "import math\n",
    "n = 10000\n",
    "p = 0.0007\n",
    "mat_spod = n * p\n",
    "print(\"Мат. сподівання: \"  + str(mat_spod))\n",
    "disp = n * p * (1 - p)\n",
    "print(\"Дисперсія: \"  + str(disp))\n",
    "quadratic_disp = math.sqrt(disp)\n",
    "print(\"Середнє квадратичне відхилення: \" + str(quadratic_disp))"
   ]
  },
  {
   "cell_type": "code",
   "execution_count": 7,
   "id": "df76c4f8",
   "metadata": {},
   "outputs": [
    {
     "name": "stdout",
     "output_type": "stream",
     "text": [
      "Дисперсія: 0.9999\n",
      "Середнє квадратичне відхилення: 0.9999499987499375\n"
     ]
    }
   ],
   "source": [
    "import math\n",
    "n = 10000\n",
    "p = 0.0001\n",
    "disp = n * p * (1 - p)\n",
    "print(\"Дисперсія: \"  + str(disp))\n",
    "quadratic_disp = math.sqrt(disp)\n",
    "print(\"Середнє квадратичне відхилення: \" + str(quadratic_disp))"
   ]
  },
  {
   "cell_type": "code",
   "execution_count": null,
   "id": "b11a88c7",
   "metadata": {},
   "outputs": [],
   "source": []
  }
 ],
 "metadata": {
  "kernelspec": {
   "display_name": "Python 3 (ipykernel)",
   "language": "python",
   "name": "python3"
  },
  "language_info": {
   "codemirror_mode": {
    "name": "ipython",
    "version": 3
   },
   "file_extension": ".py",
   "mimetype": "text/x-python",
   "name": "python",
   "nbconvert_exporter": "python",
   "pygments_lexer": "ipython3",
   "version": "3.9.7"
  }
 },
 "nbformat": 4,
 "nbformat_minor": 5
}
